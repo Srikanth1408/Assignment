{
  "nbformat": 4,
  "nbformat_minor": 0,
  "metadata": {
    "colab": {
      "name": "Python Assignment.ipynb",
      "provenance": [],
      "collapsed_sections": [],
      "authorship_tag": "ABX9TyOlJbwqW2BAQVpHo7Rht7iS",
      "include_colab_link": true
    },
    "kernelspec": {
      "name": "python3",
      "display_name": "Python 3"
    },
    "language_info": {
      "name": "python"
    }
  },
  "cells": [
    {
      "cell_type": "markdown",
      "metadata": {
        "id": "view-in-github",
        "colab_type": "text"
      },
      "source": [
        "<a href=\"https://colab.research.google.com/github/Dynamo1408/Assignment/blob/main/Python_Assignment.ipynb\" target=\"_parent\"><img src=\"https://colab.research.google.com/assets/colab-badge.svg\" alt=\"Open In Colab\"/></a>"
      ]
    },
    {
      "cell_type": "markdown",
      "metadata": {
        "id": "0G0lRh9WrkRb"
      },
      "source": [
        "1. monotonically increasing or monotonically decreasing."
      ]
    },
    {
      "cell_type": "code",
      "metadata": {
        "id": "eRcnYaxcLHxx"
      },
      "source": [
        ""
      ],
      "execution_count": null,
      "outputs": []
    },
    {
      "cell_type": "code",
      "metadata": {
        "id": "PdZEn5xBY4c4",
        "colab": {
          "base_uri": "https://localhost:8080/"
        },
        "outputId": "c3d11d1d-516a-41bb-9b7d-488da450370a"
      },
      "source": [
        "import numpy as np                                                                         #Numpy is imported as np\n",
        "def monotonic(a):                                                                          #Creating a function to check with different inputs \n",
        "  b=len(a)                                                                                 #Initializing b as the length of array a\n",
        "  c=0                                                                                      #Taking variables for futher use in the program\n",
        "  d=0\n",
        "  e=0\n",
        "  f=0\n",
        "  for i in range(b-1):                                                                     #Initializing a FOR loop \n",
        "    if (a[i]>a[i+1]):                                                                      #Checking the Monotonically decreasing condition\n",
        "      c+=1                                                                                 #Incrementing c if Monotonically decreasing condition is satisfied \n",
        "    else:\n",
        "      d+=1                                                                                 #Incrementing d if Monotonically decreasing condition is not satisfied \n",
        "  for i in range(b-1):\n",
        "    if (a[i]<a[i+1]):                                                                      #Checking the Monotonically increasing condition                                                                     \n",
        "      e+=1                                                                                 #Incrementing e if Monotonically increasing condition is satisfied \n",
        "    else:\n",
        "      f+=1                                                                                 #Incrementing f if Monotonically increasing condition is not satisfied \n",
        "  if ((e>0 and c==0) or (c>0 and e==0)):                                                   #By comparing values of c & e\n",
        "     print('true')                                                                         #Printing true if array is monotonically increasing or monotonically decreasing\n",
        "  else:\n",
        "     print('false')                                                                        #Printing false if array is monotonically increasing or monotonically decreasing\n",
        "monotonic([10,8,2,2])\n",
        "monotonic([1,1,2,4])\n",
        "monotonic([1,5,2,7])"
      ],
      "execution_count": null,
      "outputs": [
        {
          "output_type": "stream",
          "text": [
            "true\n",
            "true\n",
            "false\n"
          ],
          "name": "stdout"
        }
      ]
    },
    {
      "cell_type": "markdown",
      "metadata": {
        "id": "fEeHKcSPSNmi"
      },
      "source": [
        "2.Palindrome"
      ]
    },
    {
      "cell_type": "code",
      "metadata": {
        "id": "Mw8lED4fSRS8",
        "colab": {
          "base_uri": "https://localhost:8080/"
        },
        "outputId": "3a5dc7f2-58ce-4b39-de14-26734a1d59b1"
      },
      "source": [
        "def Palindrome(s):\n",
        "  a=s                               #Taking the string input (In the previous I have taken input directly in 2 and 3 I have taken input from console)\n",
        "  b=len(a)                          #Taking the length of a\n",
        "  c=0                               #Initializing c\n",
        "  for i in range(b):                #Initializing a FOR loop\n",
        "    if a[i]==a[-(i+1)]:             #Checking condition \n",
        "      c=c+1                         #Incrementing variable c\n",
        "  if (c>1):\n",
        "    print('true')                   #Printing true if given string is Palindrome\n",
        "  else:\n",
        "    print('false')                  #Printing False if given string is not Palindrome\n",
        "Palindrome(\"aabbaa\")\n",
        "Palindrome(\"abdcb\")"
      ],
      "execution_count": null,
      "outputs": [
        {
          "output_type": "stream",
          "text": [
            "true\n",
            "false\n"
          ],
          "name": "stdout"
        }
      ]
    },
    {
      "cell_type": "markdown",
      "metadata": {
        "id": "9K9HV98LZKqu"
      },
      "source": [
        "3. Duplicate Elements\n"
      ]
    },
    {
      "cell_type": "code",
      "metadata": {
        "colab": {
          "base_uri": "https://localhost:8080/"
        },
        "id": "7Fgef0_YO-a-",
        "outputId": "715a7b65-cc36-4736-a6c3-5679fbf9c799"
      },
      "source": [
        "def Duplicate_elements(d):       #Creating a function to check with different inputs\n",
        "  a=d                            #Initializing emptylists a and c\n",
        "  c=[]\n",
        "  for i in range(len(a)):\n",
        "    g=a.count(a[i])              #Counting the occurance of each element in the list\n",
        "    if g>1:\n",
        "      c.append(a[i])             #appending the count values into list c\n",
        "  f=set(c)                       #As the values will be occuring twice converting list into set and thereby back again\n",
        "  w=list(f)\n",
        "  print(w)                       #Finally printing the list\n",
        "\n",
        "\n",
        "Duplicate_elements([1,2,10,7,2,5,2,3,7])\n",
        "Duplicate_elements([-5,-6,7,10,-5,10,-6,7])\n"
      ],
      "execution_count": null,
      "outputs": [
        {
          "output_type": "stream",
          "text": [
            "[2, 7]\n",
            "[10, -6, -5, 7]\n"
          ],
          "name": "stdout"
        }
      ]
    },
    {
      "cell_type": "markdown",
      "metadata": {
        "id": "WwOmPAqgY8nf"
      },
      "source": [
        ""
      ]
    }
  ]
}